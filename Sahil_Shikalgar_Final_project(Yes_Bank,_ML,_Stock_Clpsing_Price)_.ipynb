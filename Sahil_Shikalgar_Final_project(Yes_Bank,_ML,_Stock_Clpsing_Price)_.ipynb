{
  "nbformat": 4,
  "nbformat_minor": 0,
  "metadata": {
    "colab": {
      "provenance": [],
      "collapsed_sections": [
        "FJNUwmbgGyua"
      ],
      "include_colab_link": true
    },
    "kernelspec": {
      "name": "python3",
      "display_name": "Python 3"
    },
    "language_info": {
      "name": "python"
    }
  },
  "cells": [
    {
      "cell_type": "markdown",
      "metadata": {
        "id": "view-in-github",
        "colab_type": "text"
      },
      "source": [
        "<a href=\"https://colab.research.google.com/github/thoda-sa-hil/EDA/blob/main/Sahil_Shikalgar_Final_project(Yes_Bank%2C_ML%2C_Stock_Clpsing_Price)_.ipynb\" target=\"_parent\"><img src=\"https://colab.research.google.com/assets/colab-badge.svg\" alt=\"Open In Colab\"/></a>"
      ]
    },
    {
      "cell_type": "markdown",
      "source": [
        "# **The ML Cookbook for Yes Bank's Stock's Closing Price**    \n",
        "\n"
      ],
      "metadata": {
        "id": "vncDsAP0Gaoa"
      }
    },
    {
      "cell_type": "markdown",
      "source": [
        "# **Project Summary -**\n",
        "\n",
        "🏦 Yes Bank, founded in 2004, is a banking company that offers a wide range of differentiated products and services for both corporate and retail customers, including retail banking and asset management solutions 💼💳.\n",
        "\n",
        "📈 Being a publicly traded company, it provides opportunities for individuals to invest and become shareholders 💹. However, this also means that the company’s valuation is largely influenced by investors and market speculators, as stock prices are often impacted by public sentiment 💭📊.\n",
        "\n",
        "🗂️ For this project, we utilized the Yes Bank stock price dataset, which includes 5 key features that can be leveraged for predicting the closing price using machine learning 🤖.\n",
        "\n",
        "🧮 We developed regression-based machine learning models for price prediction, employing some of the best algorithms to achieve accurate results ✅📉."
      ],
      "metadata": {
        "id": "FJNUwmbgGyua"
      }
    },
    {
      "cell_type": "markdown",
      "source": [
        "# **GitHub Link -**\n",
        "https://github.com/Anasshaikh04/ML_Capstone_Project_YesBank/blob/fa403df5c18801764913b840773d7005a40dd46f/ML_Capstone_Project_by_Anas_.ipynb"
      ],
      "metadata": {
        "id": "w6K7xa23Elo4"
      }
    },
    {
      "cell_type": "markdown",
      "source": [
        "# **Problem Statement**\n",
        "\n",
        "🏦 Yes Bank is a well-known player in the Indian financial sector. Since 2018, it has often been in the news due to the fraud case involving Rana Kapoor ⚖️.\n",
        "\n",
        "📉 This incident made it interesting to analyze how such events impacted the company’s stock prices and to explore whether time series models or other predictive techniques could effectively capture these variations 🔍🤖.\n",
        "\n",
        "📊 The dataset used for this study contains monthly stock prices of Yes Bank since its inception, including opening, closing, highest, and lowest stock prices for each month 📅💹."
      ],
      "metadata": {
        "id": "yQaldy8SH6Dl"
      }
    },
    {
      "cell_type": "markdown",
      "source": [
        "# ***Let's Begin !***"
      ],
      "metadata": {
        "id": "O_i_v8NEhb9l"
      }
    },
    {
      "cell_type": "markdown",
      "source": [
        "## ***1. Know Your Data***"
      ],
      "metadata": {
        "id": "HhfV-JJviCcP"
      }
    },
    {
      "cell_type": "markdown",
      "source": [
        "### Import Libraries"
      ],
      "metadata": {
        "id": "Y3lxredqlCYt"
      }
    },
    {
      "cell_type": "code",
      "source": [
        "# Import Libraries\n",
        "\n",
        "import pandas as pd\n",
        "import numpy as np\n",
        "import matplotlib.pyplot as plt\n",
        "import seaborn as sns\n",
        "\n",
        "import math\n",
        "from datetime import datetime\n",
        "from sklearn.preprocessing import StandardScaler\n",
        "from sklearn.model_selection import train_test_split\n",
        "from sklearn.linear_model import LinearRegression\n",
        "from sklearn.neighbors import KNeighborsRegressor\n",
        "from sklearn.ensemble import RandomForestRegressor\n",
        "from sklearn.linear_model import Ridge, Lasso, ElasticNet\n",
        "from sklearn.preprocessing import PowerTransformer\n",
        "from sklearn.model_selection import GridSearchCV\n",
        "from sklearn.metrics import (\n",
        "    r2_score,\n",
        "    mean_squared_error,\n",
        "    mean_absolute_percentage_error,\n",
        "    mean_absolute_error\n",
        ")\n",
        "from sklearn import metrics\n",
        "import warnings\n",
        "warnings.filterwarnings('ignore')\n"
      ],
      "metadata": {
        "id": "M8Vqi-pPk-HR"
      },
      "execution_count": null,
      "outputs": []
    },
    {
      "cell_type": "markdown",
      "source": [
        "### Dataset Loading"
      ],
      "metadata": {
        "id": "3RnN4peoiCZX"
      }
    },
    {
      "cell_type": "code",
      "source": [
        "# first we need to mount the google drive\n",
        "from google.colab import drive\n",
        "drive.mount('/content/drive')"
      ],
      "metadata": {
        "id": "V8MElWCECA45"
      },
      "execution_count": null,
      "outputs": []
    },
    {
      "cell_type": "code",
      "source": [
        "df = pd.read_csv('/content/drive/MyDrive/Alma Better/data_YesBank_StockPrices.csv')\n",
        "df.head()"
      ],
      "metadata": {
        "id": "fKU7p6Z6qQDB"
      },
      "execution_count": null,
      "outputs": []
    },
    {
      "cell_type": "code",
      "source": [
        "from google.colab import drive\n",
        "drive.mount('/content/drive')"
      ],
      "metadata": {
        "id": "2EZvoQdhzG-Q"
      },
      "execution_count": null,
      "outputs": []
    },
    {
      "cell_type": "code",
      "source": [],
      "metadata": {
        "id": "Yum0sp0EqQJc"
      },
      "execution_count": null,
      "outputs": []
    },
    {
      "cell_type": "markdown",
      "source": [
        "### Dataset First View"
      ],
      "metadata": {
        "id": "x71ZqKXriCWQ"
      }
    },
    {
      "cell_type": "code",
      "source": [
        "# Dataset First Look\n",
        "df"
      ],
      "metadata": {
        "id": "LWNFOSvLl09H"
      },
      "execution_count": null,
      "outputs": []
    },
    {
      "cell_type": "markdown",
      "source": [
        "### Dataset Rows & Columns count"
      ],
      "metadata": {
        "id": "7hBIi_osiCS2"
      }
    },
    {
      "cell_type": "code",
      "source": [
        "# Dataset Rows & Columns count\n",
        "df.shape"
      ],
      "metadata": {
        "id": "Kllu7SJgmLij"
      },
      "execution_count": null,
      "outputs": []
    },
    {
      "cell_type": "markdown",
      "source": [
        "### Dataset Information"
      ],
      "metadata": {
        "id": "JlHwYmJAmNHm"
      }
    },
    {
      "cell_type": "code",
      "source": [
        "# Dataset Info\n",
        "print('The length of the data is ',len(df))\n"
      ],
      "metadata": {
        "id": "e9hRXRi6meOf"
      },
      "execution_count": null,
      "outputs": []
    },
    {
      "cell_type": "code",
      "source": [
        "#describe\n",
        "df.describe()"
      ],
      "metadata": {
        "id": "aNHdIuMJqzOo"
      },
      "execution_count": null,
      "outputs": []
    },
    {
      "cell_type": "code",
      "source": [
        "#info\n",
        "df.info()"
      ],
      "metadata": {
        "id": "ZQjkZ6J-qzV5"
      },
      "execution_count": null,
      "outputs": []
    },
    {
      "cell_type": "code",
      "source": [],
      "metadata": {
        "id": "oWMYSRDyqzcq"
      },
      "execution_count": null,
      "outputs": []
    },
    {
      "cell_type": "markdown",
      "source": [
        "#### Duplicate Values"
      ],
      "metadata": {
        "id": "35m5QtbWiB9F"
      }
    },
    {
      "cell_type": "code",
      "source": [
        "# Dataset Duplicate Value Count\n",
        "df.duplicated().sum()"
      ],
      "metadata": {
        "id": "e3dq8qSwSKkx"
      },
      "execution_count": null,
      "outputs": []
    },
    {
      "cell_type": "markdown",
      "source": [
        "#### Missing Values/Null Values"
      ],
      "metadata": {
        "id": "PoPl-ycgm1ru"
      }
    },
    {
      "cell_type": "code",
      "source": [
        "# Missing Values/Null Values Count\n",
        "df.isnull().sum()"
      ],
      "metadata": {
        "id": "GgHWkxvamxVg"
      },
      "execution_count": null,
      "outputs": []
    },
    {
      "cell_type": "markdown",
      "source": [
        "### What did you know about your dataset?"
      ],
      "metadata": {
        "id": "H0kj-8xxnORC"
      }
    },
    {
      "cell_type": "markdown",
      "source": [
        "📊 Dataset Overview\n",
        "\n",
        "The dataset represents the historical stock data of Yes Bank, consisting of 185 records with the following columns:\n",
        "\n",
        "    📅 Date: The record date in \"Month-Year\" format.\n",
        "\n",
        "    🏦 Open: Opening price of Yes Bank stock on that date.\n",
        "\n",
        "    📈 High: The highest price reached on that date.\n",
        "\n",
        "    📉 Low: The lowest price recorded on that date.\n",
        "\n",
        "    🔒 Close: The closing price of Yes Bank stock on that date.\n",
        "\n",
        "Key Highlights:\n",
        "\n",
        "The dataset spans from July 2005 to November 2020 (185 data points in total).\n",
        "\n",
        "*   List item\n",
        "*   List item\n",
        "\n",
        "\n",
        "\n",
        "The Date column is currently stored as an object datatype and needs to be converted to datetime for analyzing trends and seasonality.\n",
        "\n",
        "The price columns (Open, High, Low, Close) are of type float64, representing numerical stock prices.\n",
        "\n",
        "✅ The dataset is clean with no missing values."
      ],
      "metadata": {
        "id": "gfoNAAC-nUe_"
      }
    },
    {
      "cell_type": "markdown",
      "source": [
        "## ***2. Understanding Your Variables***"
      ],
      "metadata": {
        "id": "nA9Y7ga8ng1Z"
      }
    },
    {
      "cell_type": "code",
      "source": [
        "# Dataset Columns\n",
        "df.columns"
      ],
      "metadata": {
        "id": "j7xfkqrt5Ag5"
      },
      "execution_count": null,
      "outputs": []
    },
    {
      "cell_type": "code",
      "source": [
        "# Dataset Describe\n",
        "df.describe()"
      ],
      "metadata": {
        "id": "DnOaZdaE5Q5t"
      },
      "execution_count": null,
      "outputs": []
    },
    {
      "cell_type": "markdown",
      "source": [
        "### 📌 Variables Description"
      ],
      "metadata": {
        "id": "PBTbrJXOngz2"
      }
    },
    {
      "cell_type": "markdown",
      "source": [
        "📑 Column Descriptions\n",
        "\n",
        "1️⃣ Date [Type: object (string)]\n",
        "📅 Represents the date on which the stock data was recorded.\n",
        "🔹 Format: \"Month-Year\" (e.g., \"Jul-05\", \"Aug-05\").\n",
        "🔹 Used to identify the time period for the respective stock data.\n",
        "\n",
        "2️⃣ Open [Type: float64]\n",
        "🏦 Represents the opening price of Yes Bank stock on the given date.\n",
        "🔹 Indicates the stock price at market open.\n",
        "🔹 A key indicator of how the stock started trading on a specific day.\n",
        "\n",
        "3️⃣ High [Type: float64]\n",
        "📈 Represents the highest price reached during the trading day.\n",
        "🔹 Shows the peak market valuation for that date.\n",
        "🔹 Useful for identifying intraday stock performance.\n",
        "\n",
        "4️⃣ Low [Type: float64]\n",
        "📉 Represents the lowest price reached during the trading day.\n",
        "🔹 Reflects the bottom market valuation for that session.\n",
        "🔹 Helps in understanding the downside risk of the stock.\n",
        "\n",
        "5️⃣ Close [Type: float64]\n",
        "🔒 Represents the closing price of Yes Bank stock on the given date.\n",
        "🔹 Indicates the final market consensus value of the stock for the day.\n",
        "🔹 One of the most important metrics for tracking stock performance."
      ],
      "metadata": {
        "id": "aJV4KIxSnxay"
      }
    },
    {
      "cell_type": "markdown",
      "source": [
        "# 3. ***Data Wrangling***"
      ],
      "metadata": {
        "id": "dauF4eBmngu3"
      }
    },
    {
      "cell_type": "markdown",
      "source": [
        "### Data Wrangling Code"
      ],
      "metadata": {
        "id": "bKJF3rekwFvQ"
      }
    },
    {
      "cell_type": "markdown",
      "source": [
        "####Converting Date Column"
      ],
      "metadata": {
        "id": "Y-pY8nAgv0uT"
      }
    },
    {
      "cell_type": "code",
      "source": [
        "# convert the 'Date' column to a date time format\n",
        "df['Date'] = pd.to_datetime(df['Date'].apply(lambda x : datetime.strptime(x,'%b-%y')))\n"
      ],
      "metadata": {
        "id": "wk-9a2fpoLcV"
      },
      "execution_count": null,
      "outputs": []
    },
    {
      "cell_type": "code",
      "source": [
        "df.info()"
      ],
      "metadata": {
        "id": "DVqNcFrEvgQw"
      },
      "execution_count": null,
      "outputs": []
    },
    {
      "cell_type": "markdown",
      "source": [
        "#Exploratory Data Analysis(EDA)"
      ],
      "metadata": {
        "id": "MyfC_Oruv9wP"
      }
    },
    {
      "cell_type": "markdown",
      "source": [
        "##Univariate Analysis"
      ],
      "metadata": {
        "id": "AtD1B7LzwCyd"
      }
    },
    {
      "cell_type": "code",
      "source": [
        "#list the all columns we do have\n",
        "col = list(df.columns)\n",
        "col"
      ],
      "metadata": {
        "id": "0b84u-MQvgXe"
      },
      "execution_count": null,
      "outputs": []
    },
    {
      "cell_type": "code",
      "source": [
        "#Plot the distribution of each column.\n",
        "# we will use box plot to show the distribution of all the numeric columns\n",
        "# Boxplot with custom color\n",
        "ax = df[col].plot(\n",
        "    kind='box',\n",
        "    title='Boxplot',\n",
        "    color=dict(boxes='red', whiskers='blue', medians='green', caps='purple')\n",
        ")\n",
        "\n",
        "plt.show()\n"
      ],
      "metadata": {
        "id": "3ELZ4WY3vgbq"
      },
      "execution_count": null,
      "outputs": []
    },
    {
      "cell_type": "markdown",
      "source": [
        "### The boxplot of the closing price shows that most values lie between around 30 and 150, with the median close to 55. However, there are several outliers above 300, indicating occasional extreme price spikes."
      ],
      "metadata": {
        "id": "59gdbBsXI07N"
      }
    },
    {
      "cell_type": "code",
      "source": [
        "# lets see the histogram plot for each column in one chart so we can interprate that how they are diffrent from each other\n",
        "# Plot histogram for each column in one chart with different colors\n",
        "plt.figure(figsize=(10, 6))\n",
        "\n",
        "sns.histplot(df['Open'], kde=True, color=\"blue\", label=\"Open\", alpha=0.5)\n",
        "sns.histplot(df['High'], kde=True, color=\"green\", label=\"High\", alpha=0.5)\n",
        "sns.histplot(df['Low'], kde=True, color=\"red\", label=\"Low\", alpha=0.5)\n",
        "sns.histplot(df['Close'], kde=True, color=\"orange\", label=\"Close\", alpha=0.5)\n",
        "\n",
        "plt.title(\"Distribution of Stock Price Columns\", fontsize=14)\n",
        "plt.legend()\n",
        "plt.show()\n"
      ],
      "metadata": {
        "id": "gVkrHL4V2aVP"
      },
      "execution_count": null,
      "outputs": []
    },
    {
      "cell_type": "markdown",
      "source": [
        "### The distribution of stock prices across Open, High, Low, and Close columns is right-skewed, with most prices concentrated under 100. A long tail towards higher prices shows fewer but extreme values, which explains the outliers seen in the boxplots."
      ],
      "metadata": {
        "id": "6Mxp0fszI5Js"
      }
    },
    {
      "cell_type": "markdown",
      "source": [
        "##Bivariate Analysis"
      ],
      "metadata": {
        "id": "FCF4vn7S2klV"
      }
    },
    {
      "cell_type": "markdown",
      "source": [
        "**Analyze the relationship between the 'Close' price and other features.**"
      ],
      "metadata": {
        "id": "GtI4qtl-2prK"
      }
    },
    {
      "cell_type": "code",
      "source": [],
      "metadata": {
        "id": "CPD9zegYVKxz"
      },
      "execution_count": null,
      "outputs": []
    },
    {
      "cell_type": "code",
      "source": [
        "#\n",
        "plt.figure(figsize=(15, 5))\n",
        "sns.lineplot(x=df.index, y='Close', data=df, color=\"orange\")  # change color here\n",
        "plt.title('Closing Price Over Time')\n",
        "plt.xlabel('Days')\n",
        "plt.ylabel('Closing Price')\n",
        "plt.show()\n"
      ],
      "metadata": {
        "id": "nEw_r0v02adN"
      },
      "execution_count": null,
      "outputs": []
    },
    {
      "cell_type": "markdown",
      "source": [
        "### The closing price trend shows steady growth from 2005 until around 2017, where prices peaked above 350. After that, a sharp decline is observed, suggesting major market corrections or external impacts on the stock."
      ],
      "metadata": {
        "id": "A2d_1aV2I7vd"
      }
    },
    {
      "cell_type": "code",
      "source": [
        "# lets see the reationship between all the variable with the 'Close' column\n",
        "colors = [\"red\", \"green\", \"blue\", \"orange\", \"purple\", \"cyan\"]  # cycle of colors\n",
        "\n",
        "for i, col in enumerate(df.columns):\n",
        "    if col != 'Close':\n",
        "        plt.figure(figsize=(15, 5))\n",
        "        sns.scatterplot(x=col, y='Close', data=df, color=colors[i % len(colors)], alpha=0.6)\n",
        "        plt.title(f'Relationship between {col} and Close', fontsize=14)\n",
        "        plt.xlabel(col)\n",
        "        plt.ylabel(\"Close\")\n",
        "        plt.show()\n"
      ],
      "metadata": {
        "id": "ihEKCe1xU9g7"
      },
      "execution_count": null,
      "outputs": []
    },
    {
      "cell_type": "markdown",
      "source": [
        "## (High vs Close)\n",
        "\n",
        "###The scatter plot between High and Close prices shows a clear linear relationship. As the high price increases, the closing price also rises proportionally, reflecting a strong positive correlation."
      ],
      "metadata": {
        "id": "d56Z0m-MJBOO"
      }
    },
    {
      "cell_type": "markdown",
      "source": [
        "## (Low vs Close)\n",
        "\n",
        "###Similarly, the scatter plot of Low vs Close prices reveals a strong linear trend, meaning the closing price closely follows the daily low values. This confirms strong interdependence among price variables."
      ],
      "metadata": {
        "id": "LKGQF1WuJGb8"
      }
    },
    {
      "cell_type": "code",
      "source": [],
      "metadata": {
        "id": "UJ4iyNlf2a50"
      },
      "execution_count": null,
      "outputs": []
    },
    {
      "cell_type": "code",
      "source": [
        "# we are creating date column as an index\n",
        "df.set_index('Date',inplace=True)"
      ],
      "metadata": {
        "id": "OQPlnjgz2a-k"
      },
      "execution_count": null,
      "outputs": []
    },
    {
      "cell_type": "code",
      "source": [
        "# the library which is used to vaualize the stock data by using different charts\n",
        "!pip install mplfinance\n",
        "\n",
        "import mplfinance as mpf\n",
        "\n",
        "# Assigning a variable to store all the data of 'Open', 'High', 'Low', 'Close' from the row data\n",
        "df_candle = df[['Open', 'High', 'Low', 'Close']]"
      ],
      "metadata": {
        "id": "CRpEVPzh2bCu"
      },
      "execution_count": null,
      "outputs": []
    },
    {
      "cell_type": "code",
      "source": [
        "# creating a candle stick chart to show the stock trends and movements\n",
        "mpf.plot(df_candle, type='candle', style='yahoo', title='Candlestick Chart')"
      ],
      "metadata": {
        "id": "tO16E68_2bGs"
      },
      "execution_count": null,
      "outputs": []
    },
    {
      "cell_type": "code",
      "source": [
        "# Other types: 'ohlc', 'line', 'renko', 'pnf'\n",
        "mpf.plot(df_candle, type='ohlc', style='yahoo', title='OHLC Chart')\n",
        "mpf.plot(df_candle, type='line', style='yahoo', title='Line Chart')\n"
      ],
      "metadata": {
        "id": "gz215bGO2bK9"
      },
      "execution_count": null,
      "outputs": []
    },
    {
      "cell_type": "markdown",
      "source": [
        "##Multivariate Analysis"
      ],
      "metadata": {
        "id": "7k4Ru2eA3RuW"
      }
    },
    {
      "cell_type": "markdown",
      "source": [
        "**Plot a heatmap to visualize correlations.**"
      ],
      "metadata": {
        "id": "F11em9S43WNX"
      }
    },
    {
      "cell_type": "code",
      "source": [
        "# creating the heatmap to show the correlation of variables\n",
        "plt.figure(figsize=(15,5))\n",
        "cor = sns.heatmap(df.corr(),annot=True)"
      ],
      "metadata": {
        "id": "JYyPD2vd2bQ7"
      },
      "execution_count": null,
      "outputs": []
    },
    {
      "cell_type": "markdown",
      "source": [
        "🔄 Handling Multicollinearity\n",
        "\n",
        "Every feature in the dataset is found to be highly correlated with the others. This means that taking just one feature or the average of these features could be sufficient for building the regression model, since Linear Regression assumes no multicollinearity among features.\n",
        "\n",
        "To address this issue, we will attempt to reduce multicollinearity through appropriate variable transformations 📉📊."
      ],
      "metadata": {
        "id": "N8xdPzph3bc_"
      }
    },
    {
      "cell_type": "code",
      "source": [
        "# lets perform the power analysisi using PowerTransformer\n",
        "pw = PowerTransformer(method='box-cox',standardize=True)"
      ],
      "metadata": {
        "id": "yz5nrqSs2bYo"
      },
      "execution_count": null,
      "outputs": []
    },
    {
      "cell_type": "code",
      "source": [
        "# making a object where we can apply the power analysis transformation\n",
        "cf= df[list(df.columns)]"
      ],
      "metadata": {
        "id": "SzkoC9Iv2bev"
      },
      "execution_count": null,
      "outputs": []
    },
    {
      "cell_type": "code",
      "source": [],
      "metadata": {
        "id": "3xNFv2T4e605"
      },
      "execution_count": null,
      "outputs": []
    },
    {
      "cell_type": "code",
      "source": [
        "# lets see the column 'Close'\n",
        "df['Close']"
      ],
      "metadata": {
        "id": "KZPfoTKV3lmq"
      },
      "execution_count": null,
      "outputs": []
    },
    {
      "cell_type": "code",
      "source": [
        "# pwerforming the poweranalysis transformation on the object where we store the data, in the form of dataframe\n",
        "# so we can get a tranformed dataframe\n",
        "kf = pd.DataFrame(pw.fit_transform(cf))"
      ],
      "metadata": {
        "id": "JQRKfoBq3luR"
      },
      "execution_count": null,
      "outputs": []
    },
    {
      "cell_type": "code",
      "source": [
        "# checking the transformed data\n",
        "kf.head()"
      ],
      "metadata": {
        "id": "D3bY_liA3l0_"
      },
      "execution_count": null,
      "outputs": []
    },
    {
      "cell_type": "code",
      "source": [
        "# renaming the columns as they were before transformation\n",
        "kf.rename(columns={0:'Open',1:'High',2:'Low',3:'Close'},inplace=True)"
      ],
      "metadata": {
        "id": "E0KcwYiH3l6M"
      },
      "execution_count": null,
      "outputs": []
    },
    {
      "cell_type": "code",
      "source": [
        "# checking the correlation between transformed columns by using heatmap\n",
        "sns.heatmap(kf.corr(),annot=True)"
      ],
      "metadata": {
        "id": "cU2KxaDj3l-0"
      },
      "execution_count": null,
      "outputs": []
    },
    {
      "cell_type": "code",
      "source": [
        "# creating object of all the columns in a list of transformed data\n",
        "col = list(kf.columns)"
      ],
      "metadata": {
        "id": "CVTLnHh330T5"
      },
      "execution_count": null,
      "outputs": []
    },
    {
      "cell_type": "code",
      "source": [],
      "metadata": {
        "id": "Zyhibuqkgiu_"
      },
      "execution_count": null,
      "outputs": []
    },
    {
      "cell_type": "code",
      "source": [
        "# now visualise the data by using box plot of transformed data\n",
        "ax = kf[col].plot(\n",
        "    kind='box',\n",
        "    title='Boxplot of Transformed Data',\n",
        "    color=dict(\n",
        "        boxes=\"orange\",     # color of the boxes\n",
        "        whiskers=\"blue\",    # color of whiskers\n",
        "        medians=\"green\",    # color of median line\n",
        "        caps=\"red\"          # color of caps\n",
        "    )\n",
        ")\n",
        "\n",
        "plt.show()\n"
      ],
      "metadata": {
        "id": "xi98mXLO30cC"
      },
      "execution_count": null,
      "outputs": []
    },
    {
      "cell_type": "markdown",
      "source": [
        "### After applying transformation, the boxplots of all four columns (Open, High, Low, Close) appear more standardized and symmetric, with fewer extreme outliers. This suggests that transformation made the dataset more balanced and suitable for further statistical modeling."
      ],
      "metadata": {
        "id": "D8HWF2BuJPUF"
      }
    },
    {
      "cell_type": "code",
      "source": [
        "# lets see the relationship between diffrent variables of the transformed data , by using pair plot\n",
        "sns.pairplot(kf)"
      ],
      "metadata": {
        "id": "oagjalix30kW"
      },
      "execution_count": null,
      "outputs": []
    },
    {
      "cell_type": "code",
      "source": [],
      "metadata": {
        "id": "HgHFIbKW30oP"
      },
      "execution_count": null,
      "outputs": []
    },
    {
      "cell_type": "markdown",
      "source": [
        "#Data Preprocessing"
      ],
      "metadata": {
        "id": "YoIQI0NH38Nt"
      }
    },
    {
      "cell_type": "markdown",
      "source": [
        "**Power Transformation to Reduce Multicollinearity**\n",
        "\n",
        "Transform the features using PowerTransformer."
      ],
      "metadata": {
        "id": "P9wGTEtt3_K7"
      }
    },
    {
      "cell_type": "code",
      "source": [
        "# top 5 rows view of the transformed data\n",
        "kf.head()"
      ],
      "metadata": {
        "id": "NyPeN6zy30sc"
      },
      "execution_count": null,
      "outputs": []
    },
    {
      "cell_type": "code",
      "source": [
        "# assigning the dependent variable\n",
        "dependent_variable = 'Close'\n",
        "\n",
        "# assigning independent variables\n",
        "independent_variable = list(set(kf.columns.tolist())-{dependent_variable})"
      ],
      "metadata": {
        "id": "PkZ5BXol31EG"
      },
      "execution_count": null,
      "outputs": []
    },
    {
      "cell_type": "code",
      "source": [
        "# lets devide the dataset into two part , X and y\n",
        "# where X is collection of independent variables , and y is dependent variable\n",
        "x=df[independent_variable].values\n",
        "y=df[dependent_variable].values"
      ],
      "metadata": {
        "id": "Xn4TXnEx31MU"
      },
      "execution_count": null,
      "outputs": []
    },
    {
      "cell_type": "code",
      "source": [],
      "metadata": {
        "id": "r6gmW7YL31SL"
      },
      "execution_count": null,
      "outputs": []
    },
    {
      "cell_type": "code",
      "source": [
        "# now performing split by using train_test_split with the transformed data\n",
        "x_train,x_test,y_train,y_test = train_test_split(x,y,test_size=0.2,random_state=0)"
      ],
      "metadata": {
        "id": "YmOFkmQV4MCF"
      },
      "execution_count": null,
      "outputs": []
    },
    {
      "cell_type": "markdown",
      "source": [
        "## Model Building  \n",
        "\n",
        "To predict stock prices, multiple regression models are applied:  \n",
        "\n",
        "1. **Linear Regression** – A baseline model to understand linear relationships.  \n",
        "2. **Ridge Regression** – Adds L2 regularization to handle multicollinearity.  \n",
        "3. **Lasso Regression** – Uses L1 regularization for feature selection.  \n",
        "4. **Elastic Net** – A combination of Ridge and Lasso for balanced performance.  \n",
        "5. **Random Forest Regressor** – A tree-based ensemble method for improved accuracy.  \n",
        "Each model is evaluated using appropriate metrics to compare performance and select the best one."
      ],
      "metadata": {
        "id": "JIYKeOoAG2_G"
      }
    },
    {
      "cell_type": "markdown",
      "source": [
        "# **Linear Regression**"
      ],
      "metadata": {
        "id": "677pPUAU4UAH"
      }
    },
    {
      "cell_type": "code",
      "source": [
        "# performing Linear regression on the transformed data\n",
        "reg=LinearRegression()\n",
        "reg.fit(x_train,y_train)"
      ],
      "metadata": {
        "id": "1jlPMhty4MJ5"
      },
      "execution_count": null,
      "outputs": []
    },
    {
      "cell_type": "code",
      "source": [
        "# predicting\n",
        "y_pred = reg.predict(x_test)"
      ],
      "metadata": {
        "id": "ZV0-wEaf4MRY"
      },
      "execution_count": null,
      "outputs": []
    },
    {
      "cell_type": "code",
      "source": [
        "# lets caculate the R square of the model\n",
        "linear_r2 = r2_score(y_pred,y_test)\n",
        "linear_r2"
      ],
      "metadata": {
        "id": "MCsb-zqB4MVF"
      },
      "execution_count": null,
      "outputs": []
    },
    {
      "cell_type": "code",
      "source": [
        "\n",
        "# lets visualize the graph of predicted values with respect to actual values\n",
        "plt.plot(y_pred, color=\"orange\")   # predicted in orange\n",
        "plt.plot(y_test, color=\"blue\")     # actual in blue\n",
        "plt.legend([\"Predicted\", \"Actual\"])\n",
        "plt.title(\"Predicted vs Actual Values\")\n",
        "plt.show()\n"
      ],
      "metadata": {
        "id": "zMfYuyyJ4Mb_"
      },
      "execution_count": null,
      "outputs": []
    },
    {
      "cell_type": "markdown",
      "source": [
        "### The model predictions follow the overall trend of actual values but miss sharp fluctuations, showing it captures general patterns but struggles with high volatility."
      ],
      "metadata": {
        "id": "lkLF8eUKJnnb"
      }
    },
    {
      "cell_type": "markdown",
      "source": [
        "# **K-Nearest Neighbors (KNN):**"
      ],
      "metadata": {
        "id": "VsxsTf7A4g3b"
      }
    },
    {
      "cell_type": "code",
      "source": [
        "\n",
        "# importing KNN library\n",
        "from sklearn.neighbors import KNeighborsRegressor\n",
        "# importing gridsearch\n",
        "from sklearn.model_selection import GridSearchCV\n",
        "\n",
        "# creating object of KNN\n",
        "knn = KNeighborsRegressor()\n",
        "# randomely taking paramets of n_neighbours\n",
        "params = {'n_neighbors':[2,3,4,5,6,7,8,9]}\n",
        "# creating model for gridsearch for getting best parameters with respect to KNN model\n",
        "model = GridSearchCV(knn,params,cv=5)"
      ],
      "metadata": {
        "id": "Qg-jo9oP4hb0"
      },
      "execution_count": null,
      "outputs": []
    },
    {
      "cell_type": "code",
      "source": [
        "# fitting gridsearch model on the tranformed data\n",
        "model.fit(x_train,y_train)"
      ],
      "metadata": {
        "id": "sYzPHtaY4hlj"
      },
      "execution_count": null,
      "outputs": []
    },
    {
      "cell_type": "code",
      "source": [
        "# lets see best paramets by the gridsearch\n",
        "model.best_params_"
      ],
      "metadata": {
        "id": "7uM9BeYw4hsm"
      },
      "execution_count": null,
      "outputs": []
    },
    {
      "cell_type": "code",
      "source": [
        "# performing KNN regression by using that parameter\n",
        "knn = KNeighborsRegressor(n_neighbors=2)"
      ],
      "metadata": {
        "id": "yfsF7AWW4h20"
      },
      "execution_count": null,
      "outputs": []
    },
    {
      "cell_type": "code",
      "source": [
        "# fitting the model by using transofrmed data\n",
        "knn.fit(x_train,y_train)"
      ],
      "metadata": {
        "id": "D3YvPzm24h-A"
      },
      "execution_count": null,
      "outputs": []
    },
    {
      "cell_type": "code",
      "source": [
        "# predicting by using KNN model\n",
        "knn_pred = knn.predict(x_test)"
      ],
      "metadata": {
        "id": "kQOM3JHk4iG4"
      },
      "execution_count": null,
      "outputs": []
    },
    {
      "cell_type": "code",
      "source": [
        "# caculating R square value of the model\n",
        "r2_knn = r2_score(y_test,knn_pred)\n",
        "r2_knn"
      ],
      "metadata": {
        "id": "IgTF4oqR4iLD"
      },
      "execution_count": null,
      "outputs": []
    },
    {
      "cell_type": "code",
      "source": [
        "# lets see the visualization of the Knn prediction with the acutal data points\n",
        "plt.plot(knn_pred, color=\"green\", linestyle=\"--\", marker=\"o\")   # predicted in green dashed line\n",
        "plt.plot(y_test, color=\"red\", linestyle=\"-\")                    # actual in red solid line\n",
        "plt.legend([\"Predicted\", \"Actual\"])\n",
        "plt.title(\"KNN Regressor: Predicted vs Actual\")\n",
        "plt.show()\n"
      ],
      "metadata": {
        "id": "B905kLWi4iP9"
      },
      "execution_count": null,
      "outputs": []
    },
    {
      "cell_type": "markdown",
      "source": [
        "### The KNN regressor predictions align very closely with the actual values, effectively capturing sharp rises and drops. This indicates that KNN performs well on this dataset compared to linear regression, especially in handling fluctuations."
      ],
      "metadata": {
        "id": "2sMyf3RAJugd"
      }
    },
    {
      "cell_type": "markdown",
      "source": [
        "# **RandomForest**"
      ],
      "metadata": {
        "id": "VruUKyjW43OQ"
      }
    },
    {
      "cell_type": "code",
      "source": [
        "# performing random forest by using Grid search\n",
        "rf = RandomForestRegressor()\n",
        "params = {'n_estimators':[100,200,300],'criterion':['squared_error', 'absolute_error', 'friedman_mse', 'poisson'],'max_features':['sqrt', 'log2', None]}\n",
        "rf_model = GridSearchCV(rf,params,cv=5)"
      ],
      "metadata": {
        "id": "7gW9xHYT4iUc"
      },
      "execution_count": null,
      "outputs": []
    },
    {
      "cell_type": "code",
      "source": [
        "# fitting the model on the train data\n",
        "rf_model.fit(x_train,y_train)"
      ],
      "metadata": {
        "id": "McZax3Fv4iZA"
      },
      "execution_count": null,
      "outputs": []
    },
    {
      "cell_type": "code",
      "source": [
        "# lets see the best parameters\n",
        "rf_model.best_params_"
      ],
      "metadata": {
        "id": "zX2HoM9-4ifh"
      },
      "execution_count": null,
      "outputs": []
    },
    {
      "cell_type": "code",
      "source": [
        "# fitting the model by using parameters what gridsearch showed\n",
        "rf = RandomForestRegressor(criterion= 'friedman_mse', max_features= None, n_estimators= 300)"
      ],
      "metadata": {
        "id": "x_mtq10O4ikA"
      },
      "execution_count": null,
      "outputs": []
    },
    {
      "cell_type": "code",
      "source": [
        "# fiting the random forest model on the train data\n",
        "rf.fit(x_train,y_train)"
      ],
      "metadata": {
        "id": "N_6oIMZA4ioH"
      },
      "execution_count": null,
      "outputs": []
    },
    {
      "cell_type": "code",
      "source": [
        "#lets predict by using test data\n",
        "rf_predict_ = rf.predict(x_test)"
      ],
      "metadata": {
        "id": "AndCFMx64isN"
      },
      "execution_count": null,
      "outputs": []
    },
    {
      "cell_type": "code",
      "source": [
        "# caculate R square value for the random forest model\n",
        "rf_r2 = r2_score(y_test,rf_predict_)\n",
        "rf_r2"
      ],
      "metadata": {
        "id": "TSSfUHM34iyd"
      },
      "execution_count": null,
      "outputs": []
    },
    {
      "cell_type": "code",
      "source": [
        "# lets visualize the actual and predicted datapoints\n",
        "plt.plot(rf_predict_, color=\"purple\", linestyle=\"--\", marker=\"s\")  # predicted in purple dashed line with square markers\n",
        "plt.plot(y_test, color=\"black\", linestyle=\"-\")                     # actual in black solid line\n",
        "plt.legend([\"Predicted\", \"Actual\"])\n",
        "plt.title(\"Random Forest Regressor: Predicted vs Actual\")\n",
        "plt.show()\n"
      ],
      "metadata": {
        "id": "ALhMGT5L5RQK"
      },
      "execution_count": null,
      "outputs": []
    },
    {
      "cell_type": "markdown",
      "source": [
        "### The Random Forest regressor predictions closely overlap with the actual values, capturing both the overall trend and sharp fluctuations. This indicates strong predictive accuracy and robustness compared to simpler models."
      ],
      "metadata": {
        "id": "8a1Z6VsUJ1n5"
      }
    },
    {
      "cell_type": "code",
      "source": [],
      "metadata": {
        "id": "hWUATve15Rbk"
      },
      "execution_count": null,
      "outputs": []
    },
    {
      "cell_type": "markdown",
      "source": [
        "# **Ridge Regression**"
      ],
      "metadata": {
        "id": "XvNIdtCv5VPX"
      }
    },
    {
      "cell_type": "code",
      "source": [
        "# lest perform ridge regression by using the dame approach of grid search\n",
        "ridge =Ridge()\n",
        "param = {'alpha': [1e-15,1e-10,1e-8,1e-5,1e-4,1e-3,1e-2,0.3,0.7,1,1.2,1.33,1.365,1.37,1.375,1.4,1.5,1.6,1.8,2.5,5,10,20,30,40,45,50,55,60,100]}\n",
        "ridge_regressor = GridSearchCV(ridge, param, scoring='neg_mean_squared_error', cv=3)\n",
        "ridge_regressor.fit(x_train,y_train)\n",
        "ridge_regressor.best_params_"
      ],
      "metadata": {
        "id": "CrXtsKM95RkU"
      },
      "execution_count": null,
      "outputs": []
    },
    {
      "cell_type": "code",
      "source": [
        "# now we have the alpha (significance )value which we got by the help of grid search\n",
        "ridge =Ridge(alpha= 100)"
      ],
      "metadata": {
        "id": "Ebv3HYAs5RuI"
      },
      "execution_count": null,
      "outputs": []
    },
    {
      "cell_type": "code",
      "source": [
        "# performing the model fitting on the train data\n",
        "ridge.fit(x_train,y_train)"
      ],
      "metadata": {
        "id": "DO61g4BH5R9w"
      },
      "execution_count": null,
      "outputs": []
    },
    {
      "cell_type": "code",
      "source": [
        "# predicting by themodel of ridge regression\n",
        "y_pred_ridge = ridge.predict(x_test)"
      ],
      "metadata": {
        "id": "i7kiWR_W5SCT"
      },
      "execution_count": null,
      "outputs": []
    },
    {
      "cell_type": "code",
      "source": [
        "# caculating R square value for the ridge model\n",
        "ridge_r2 = r2_score(y_test,y_pred_ridge)\n",
        "ridge_r2"
      ],
      "metadata": {
        "id": "CiuU0AzV5SG9"
      },
      "execution_count": null,
      "outputs": []
    },
    {
      "cell_type": "code",
      "source": [
        "# Rsquare value\n",
        "ridge_r2"
      ],
      "metadata": {
        "id": "vHi7WTxT5SLm"
      },
      "execution_count": null,
      "outputs": []
    },
    {
      "cell_type": "code",
      "source": [
        "# lets visualize the graph of actual and and predicted datapoints\n",
        "\n",
        "plt.plot(y_pred_ridge, color=\"darkorange\", linestyle=\"--\", marker=\"o\")  # predicted in orange dashed line with circle markers\n",
        "plt.plot(y_test, color=\"navy\", linestyle=\"-\")                           # actual in navy solid line\n",
        "plt.legend([\"Predicted\", \"Actual\"])\n",
        "plt.title(\"Ridge Regression: Predicted vs Actual\")\n",
        "plt.show()\n"
      ],
      "metadata": {
        "id": "VmfiOyLD5SP-"
      },
      "execution_count": null,
      "outputs": []
    },
    {
      "cell_type": "markdown",
      "source": [
        "### Ridge Regression predictions align very closely with the actual values, with only slight deviations at extreme peaks and dips. This shows it handles fluctuations better than simple linear regression while preventing overfitting."
      ],
      "metadata": {
        "id": "aNpuvFDkJ9db"
      }
    },
    {
      "cell_type": "markdown",
      "source": [
        "# **Lasso**"
      ],
      "metadata": {
        "id": "SPH7uRiK5jMP"
      }
    },
    {
      "cell_type": "code",
      "source": [
        "# performing lasso regression by using the same approach\n",
        "lasso =Lasso()\n",
        "param = {'alpha': [1e-15,1e-10,1e-8,1e-5,1e-4,1e-3,1e-2,0.3,0.7,1,1.2,1.33,1.365,1.37,1.375,1.4,1.5,1.6,1.8,2.5,5,10,20,30,40,45,50,55,60,100]}\n",
        "lasso_regressor = GridSearchCV(lasso, param, scoring='neg_mean_squared_error', cv=3)\n",
        "lasso_regressor.fit(x_train,y_train)"
      ],
      "metadata": {
        "id": "ILhIwy3q5lww"
      },
      "execution_count": null,
      "outputs": []
    },
    {
      "cell_type": "code",
      "source": [
        "# lets see the best parameters\n",
        "lasso_regressor.best_params_"
      ],
      "metadata": {
        "id": "3yh2lNpQ5l6g"
      },
      "execution_count": null,
      "outputs": []
    },
    {
      "cell_type": "code",
      "source": [
        "# using best hyperparameter assigning the model\n",
        "lasso =Lasso(alpha= 2.5)"
      ],
      "metadata": {
        "id": "3FTNveDA5mG9"
      },
      "execution_count": null,
      "outputs": []
    },
    {
      "cell_type": "code",
      "source": [
        "# fitting the model on train data\n",
        "\n",
        "lasso.fit(x_train,y_train)"
      ],
      "metadata": {
        "id": "4hog8ki35mOb"
      },
      "execution_count": null,
      "outputs": []
    },
    {
      "cell_type": "code",
      "source": [
        "# prediting by the model\n",
        "lasso_predict = lasso.predict(x_test)"
      ],
      "metadata": {
        "id": "wLRGmXWO5mVC"
      },
      "execution_count": null,
      "outputs": []
    },
    {
      "cell_type": "code",
      "source": [
        "# caculating the R square of the model\n",
        "lasso_r2 = r2_score(lasso_predict,y_test)\n",
        "lasso_r2"
      ],
      "metadata": {
        "id": "sOUzU_jH5mZy"
      },
      "execution_count": null,
      "outputs": []
    },
    {
      "cell_type": "code",
      "source": [
        "# visualize the graph of predicted and actual\n",
        "plt.plot(lasso_predict, color=\"mediumseagreen\", linestyle=\"--\", marker=\"s\")  # predicted in green dashed with square markers\n",
        "plt.plot(y_test, color=\"crimson\", linestyle=\"-\")                             # actual in crimson solid line\n",
        "plt.legend([\"Predicted\", \"Actual\"])\n",
        "plt.title(\"Lasso Regression: Predicted vs Actual\")\n",
        "plt.show()\n"
      ],
      "metadata": {
        "id": "KybsZUxU5mec"
      },
      "execution_count": null,
      "outputs": []
    },
    {
      "cell_type": "markdown",
      "source": [
        "### Lasso Regression predictions are closely aligned with actual values, effectively capturing the overall trend. However, it slightly smooths out sharp fluctuations, showing its tendency to simplify the model by shrinking less important features."
      ],
      "metadata": {
        "id": "xrHZSsTFKD01"
      }
    },
    {
      "cell_type": "code",
      "source": [],
      "metadata": {
        "id": "gAaJIFN75mi0"
      },
      "execution_count": null,
      "outputs": []
    },
    {
      "cell_type": "markdown",
      "source": [
        "# **Elasticnet**"
      ],
      "metadata": {
        "id": "oHAV200y55fw"
      }
    },
    {
      "cell_type": "code",
      "source": [
        "# performing Elasticnet by using the same appraoch\n",
        "elastic =ElasticNet()\n",
        "param = {'alpha': [1e-15,1e-13,1e-10,1e-8,1e-5,1e-4,1e-3,0.001,0.01,0.02,0.03,0.04,1,5,10,20,40,50,60,100],\n",
        "                          'l1_ratio':[0.1,0.2,0.3,0.4,0.5,0.6,0.7,0.8,0.9]}\n",
        "elastic_regressor = GridSearchCV(elastic, param, scoring='neg_mean_squared_error', cv=5)\n",
        "elastic_regressor.fit(x_train,y_train)"
      ],
      "metadata": {
        "id": "gfGZqIS15mpO"
      },
      "execution_count": null,
      "outputs": []
    },
    {
      "cell_type": "code",
      "source": [
        "# the best parameter of elasticnet regression model\n",
        "elastic_regressor.best_params_"
      ],
      "metadata": {
        "id": "r0ZJlUso5mt3"
      },
      "execution_count": null,
      "outputs": []
    },
    {
      "cell_type": "code",
      "source": [
        "# using these hyperparameter for customise the model\n",
        "elastic =ElasticNet(alpha = 5, l1_ratio = 0.1)"
      ],
      "metadata": {
        "id": "pCCO82-o5myw"
      },
      "execution_count": null,
      "outputs": []
    },
    {
      "cell_type": "code",
      "source": [
        "# fitting them model on the train data\n",
        "elastic.fit(x_train,y_train)"
      ],
      "metadata": {
        "id": "7uXbCRdQ6Ct-"
      },
      "execution_count": null,
      "outputs": []
    },
    {
      "cell_type": "code",
      "source": [
        "# predicting by using the elastic net model\n",
        "elastic_predict = elastic.predict(x_test)"
      ],
      "metadata": {
        "id": "ognI57nu6C2x"
      },
      "execution_count": null,
      "outputs": []
    },
    {
      "cell_type": "code",
      "source": [
        "# caculating the R square value for the model\n",
        "elastic_r2 = r2_score(elastic_predict,y_test)\n",
        "elastic_r2"
      ],
      "metadata": {
        "id": "AbrRPFoK6C_n"
      },
      "execution_count": null,
      "outputs": []
    },
    {
      "cell_type": "code",
      "source": [
        "# lets visualise the actual and the predicted datapoints\n",
        "plt.plot(elastic_predict, color=\"darkorange\", linestyle=\"--\", marker=\"^\")  # predicted in orange dashed with triangle markers\n",
        "plt.plot(y_test, color=\"royalblue\", linestyle=\"-\")                         # actual in blue solid line\n",
        "plt.legend([\"Predicted\", \"Actual\"])\n",
        "plt.title(\"ElasticNet Regression: Predicted vs Actual\")\n",
        "plt.show()\n"
      ],
      "metadata": {
        "id": "AzsBc-Hk6DNq"
      },
      "execution_count": null,
      "outputs": []
    },
    {
      "cell_type": "markdown",
      "source": [
        "### ElasticNet Regression predictions align very closely with the actual values, effectively balancing between Ridge and Lasso properties. It captures sharp fluctuations while preventing overfitting, making it a stable performer."
      ],
      "metadata": {
        "id": "CfGgfQd1KLMl"
      }
    },
    {
      "cell_type": "markdown",
      "source": [
        "# **Evaluation and Improvement of Model**"
      ],
      "metadata": {
        "id": "WT1sr4b56LtJ"
      }
    },
    {
      "cell_type": "code",
      "source": [
        "#Compare Model Performance by using all the models\n",
        "Report = pd.DataFrame(data={'model':['linear regression','ridge regression','lasso regression','elastic net regression','knn regression','RandomForest Regression'],'r2_score':[linear_r2,ridge_r2,lasso_r2,elastic_r2,r2_knn,rf_r2]})\n"
      ],
      "metadata": {
        "id": "y4l-wTRE6DTS"
      },
      "execution_count": null,
      "outputs": []
    },
    {
      "cell_type": "code",
      "source": [
        "# lets see the performance sequance wise\n",
        "Report.sort_values(by=['r2_score'],ascending=False,inplace=True)"
      ],
      "metadata": {
        "id": "37Q2A_IN6DYs"
      },
      "execution_count": null,
      "outputs": []
    },
    {
      "cell_type": "code",
      "source": [
        "Report"
      ],
      "metadata": {
        "id": "ndaOGWCs6Dc5"
      },
      "execution_count": null,
      "outputs": []
    },
    {
      "cell_type": "markdown",
      "source": [
        "## **Model Evaluation Summary**\n",
        "\n",
        "### Among all models, KNN Regression performed the best with an R² score of 0.9931, showing excellent accuracy. Linear Regression (0.9931), Ridge Regression (0.9930), and ElasticNet Regression (0.9927) also performed very strongly, with only minor differences in accuracy. Lasso Regression (0.9926) followed closely, while Random Forest Regression (0.9855) showed slightly lower performance compared to the others. Overall, all models performed exceptionally well, with KNN leading by a small margin."
      ],
      "metadata": {
        "id": "3utNjX0XKT0n"
      }
    },
    {
      "cell_type": "markdown",
      "source": [
        "##**Feature Importance:**\n",
        "\n",
        "For Random Forest and other applicable models, determine feature importance."
      ],
      "metadata": {
        "id": "iB6EPrmY6TxZ"
      }
    },
    {
      "cell_type": "code",
      "source": [
        "# Assuming you have already run GridSearchCV and fitted the model\n",
        "rf_best = rf_model.best_estimator_\n",
        "\n",
        "# Extract feature importances\n",
        "feature_importance = pd.Series(rf_best.feature_importances_, index=independent_variable).sort_values(ascending=False)\n",
        "\n"
      ],
      "metadata": {
        "id": "kopH7Kz76DjT"
      },
      "execution_count": null,
      "outputs": []
    },
    {
      "cell_type": "code",
      "source": [
        "# Plot feature importances\n",
        "feature_importance.plot(\n",
        "    kind='bar',\n",
        "    color=\"teal\",          # single custom color\n",
        "    edgecolor=\"black\"      # outline for better visibility\n",
        ")\n",
        "plt.title('Feature Importance', fontsize=14, fontweight=\"bold\")\n",
        "plt.xlabel('Features', fontsize=12)\n",
        "plt.ylabel('Importance', fontsize=12)\n",
        "plt.show()"
      ],
      "metadata": {
        "id": "QItbYfP5F1bS"
      },
      "execution_count": null,
      "outputs": []
    },
    {
      "cell_type": "markdown",
      "source": [
        "# **Conclusions Drawn :**"
      ],
      "metadata": {
        "id": "DEK2jIJc6cNc"
      }
    },
    {
      "cell_type": "code",
      "source": [
        "#Summarize Findings:\n",
        "print(\"Conclusions:\")\n",
        "print(\"📅 The dataset contains monthly stock prices of Yes Bank since its inception.\")\n",
        "print(\"⚖️ Stock prices were significantly impacted by the 2018 fraud case involving Rana Kapoor.\")\n",
        "print(\"✅ The dataset is clean, with no null values or duplicate records.\")\n",
        "print(\"📉 Outliers were retained to avoid data loss and preserve stock volatility patterns.\")\n",
        "print(\"🔄 A Power Transformation was applied to handle positively skewed distributions.\")\n",
        "print(\"📈 Strong correlation between dependent and independent variables suggests high prediction potential.\")\n",
        "print(\"⚠️ Presence of multicollinearity among independent variables due to the relatively small dataset.\")\n",
        "print(\"🏆 Among all models tested, the KNN Regressor performed the best, achieving an R² score of 0.9931.\")\n",
        "\n"
      ],
      "metadata": {
        "id": "OsUShLRX6DoJ"
      },
      "execution_count": null,
      "outputs": []
    },
    {
      "cell_type": "code",
      "source": [
        "#Project Utility for Stakeholders:\n",
        "print(\"📌 Utility for Stakeholders:\")\n",
        "print(\"💹 Accurate prediction of closing prices can assist investors in making informed decisions.\")\n",
        "print(\"📊 Helps in understanding the impact of major events on stock prices.\")\n",
        "print(\"📈 Provides a basis for further financial analysis and investment strategies.\")\n"
      ],
      "metadata": {
        "id": "m6cOiE1w6Dsp"
      },
      "execution_count": null,
      "outputs": []
    },
    {
      "cell_type": "code",
      "source": [
        "print('Thank you !')"
      ],
      "metadata": {
        "id": "iL1XiLrS6DzU"
      },
      "execution_count": null,
      "outputs": []
    },
    {
      "cell_type": "code",
      "source": [],
      "metadata": {
        "id": "w4bIh-SRhZvk"
      },
      "execution_count": null,
      "outputs": []
    }
  ]
}